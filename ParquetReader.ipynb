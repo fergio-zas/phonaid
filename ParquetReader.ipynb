{
 "cells": [
  {
   "cell_type": "code",
   "execution_count": 1,
   "id": "deb1d168-4a64-44e6-b612-6da00fe7f96e",
   "metadata": {},
   "outputs": [],
   "source": [
    "import pandas as pd\n",
    "parquet_file_path = 'gza_data/clinical_data/PhonAID_clinical.parquet'\n",
    "df = pd.read_parquet(parquet_file_path)"
   ]
  },
  {
   "cell_type": "code",
   "execution_count": 2,
   "id": "5a5ada13-e849-491f-9b7d-b60fd892cc79",
   "metadata": {},
   "outputs": [
    {
     "name": "stdout",
     "output_type": "stream",
     "text": [
      "        ID diagnosisdate diagnosis    G    R    B    A    S  VHI_F  VHI_E  \\\n",
      "0  GZP0001   2018-01-05    Mucosal  2.0  0.0  3.0  0.0  2.0    8.0    0.0   \n",
      "1  GZP0002   2019-07-12     Normal  2.0  2.0  0.0  0.0  0.0    1.0    3.0   \n",
      "2  GZP0003   2022-06-02     Normal  3.0  2.0  1.0  0.0  3.0   26.0   21.0   \n",
      "3  GZP0004   2023-07-13    Mucosal  3.0  3.0  2.0  0.0  1.0    6.0    4.0   \n",
      "4  GZP0005   2015-03-24     Normal  0.0  0.0  0.0  1.0  0.0    5.0    6.0   \n",
      "\n",
      "   ...  shimmer  jitter  gender  smokingstatus  singingtraining        DSI  \\\n",
      "0  ...     0.64    1.22       F      No smoker            Never   1.310000   \n",
      "1  ...     0.28    0.59       F      No smoker            Never   4.190000   \n",
      "2  ...     0.85    2.73       F      No smoker            Never  -5.010000   \n",
      "3  ...     1.90    7.66       M      Ex smoker            Never -23.200001   \n",
      "4  ...     0.34    0.28       M      No smoker            Never   3.390000   \n",
      "\n",
      "    AVQI        MFT age   location  \n",
      "0   3.81   5.160000   7  WilrijkSA  \n",
      "1   3.81  13.960000  42  WilrijkSA  \n",
      "2   5.70   6.410000  57  WilrijkSA  \n",
      "3  10.04  13.930000  91  WilrijkSA  \n",
      "4   2.73  19.389999  56  WilrijkSA  \n",
      "\n",
      "[5 rows x 26 columns]\n"
     ]
    }
   ],
   "source": [
    "print(df.head())"
   ]
  },
  {
   "cell_type": "code",
   "execution_count": 3,
   "id": "c20700c3-b0a3-4be1-bc7e-861bfb98305b",
   "metadata": {},
   "outputs": [
    {
     "name": "stdout",
     "output_type": "stream",
     "text": [
      "Index(['ID', 'diagnosisdate', 'diagnosis', 'G', 'R', 'B', 'A', 'S', 'VHI_F',\n",
      "       'VHI_E', 'VHI_P', 'F0', 'Fmin', 'Fmax', 'SPLmin', 'SPLmax', 'shimmer',\n",
      "       'jitter', 'gender', 'smokingstatus', 'singingtraining', 'DSI', 'AVQI',\n",
      "       'MFT', 'age', 'location'],\n",
      "      dtype='object')\n"
     ]
    }
   ],
   "source": [
    "print(df.columns)"
   ]
  },
  {
   "cell_type": "code",
   "execution_count": 4,
   "id": "4fdd6881-2504-4977-9cbc-e36159335ff8",
   "metadata": {},
   "outputs": [
    {
     "name": "stdout",
     "output_type": "stream",
     "text": [
      "ID                  object\n",
      "diagnosisdate       object\n",
      "diagnosis           object\n",
      "G                  float64\n",
      "R                  float64\n",
      "B                  float64\n",
      "A                  float64\n",
      "S                  float64\n",
      "VHI_F              float64\n",
      "VHI_E              float64\n",
      "VHI_P              float64\n",
      "F0                 float64\n",
      "Fmin               float64\n",
      "Fmax               float64\n",
      "SPLmin             float64\n",
      "SPLmax             float64\n",
      "shimmer            float32\n",
      "jitter             float32\n",
      "gender              object\n",
      "smokingstatus       object\n",
      "singingtraining     object\n",
      "DSI                float32\n",
      "AVQI               float32\n",
      "MFT                float32\n",
      "age                  int32\n",
      "location            object\n",
      "dtype: object\n"
     ]
    }
   ],
   "source": [
    "print(df.dtypes)"
   ]
  },
  {
   "cell_type": "code",
   "execution_count": null,
   "id": "0b891dc7-67d5-453c-b879-14211efe5cd0",
   "metadata": {},
   "outputs": [],
   "source": []
  }
 ],
 "metadata": {
  "kernelspec": {
   "display_name": "Python 3 (ipykernel)",
   "language": "python",
   "name": "python3"
  },
  "language_info": {
   "codemirror_mode": {
    "name": "ipython",
    "version": 3
   },
   "file_extension": ".py",
   "mimetype": "text/x-python",
   "name": "python",
   "nbconvert_exporter": "python",
   "pygments_lexer": "ipython3",
   "version": "3.10.11"
  }
 },
 "nbformat": 4,
 "nbformat_minor": 5
}
